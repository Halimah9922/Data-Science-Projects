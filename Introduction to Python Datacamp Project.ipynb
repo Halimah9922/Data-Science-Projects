{
 "cells": [
  {
   "cell_type": "markdown",
   "id": "prostate-arizona",
   "metadata": {
    "id": "bA5ajAmk7XH6"
   },
   "source": [
    "# Introduction to Python\n",
    "\n",
    "👋 Welcome to your new **workspace**! Here, you can experiment with the data you used in [Introduction to Python](https://app.datacamp.com/learn/courses/intro-to-python-for-data-science) and practice your newly learned skills with some challenges. You can find out more about DataCamp Workspace [here](https://workspace-docs.datacamp.com/).\n",
    "\n",
    "On average, we expect users to take approximately **15 minutes** to complete the content in this workspace. However, you are free to experiment and practice in it as long as you would like!"
   ]
  },
  {
   "cell_type": "markdown",
   "id": "c1c12180",
   "metadata": {},
   "source": [
    "## 1. Get Started\n",
    "Below is a code cell. It is used to execute Python code. To get you started, there is already pre-written Python code for you to run.\n",
    "\n",
    "🏃**To execute the code, click inside the cell to select it and click \"Run\" or the ► icon. You can also use Shift-Enter to run a selected cell.**"
   ]
  },
  {
   "cell_type": "code",
   "execution_count": null,
   "id": "environmental-confirmation",
   "metadata": {},
   "outputs": [],
   "source": [
    "# Create two variables\n",
    "x = 2\n",
    "y = 3\n",
    "\n",
    "# Multiply and print their product\n",
    "print(\"Multiplying x and y returns\", x * y)"
   ]
  },
  {
   "cell_type": "markdown",
   "id": "generous-winning",
   "metadata": {},
   "source": [
    "## 2. Load in the Data\n",
    "The code below imports packages you used in Introduction to Python: NumPy and Math. It also imports pandas, a package introduced in Intermediate Python to help load in data as NumPy arrays.\n",
    "\n",
    "**Reminder: To execute the code, click inside the cell to select it and click \"Run\" or the ► icon. You can also use Shift-Enter to run a selected cell.**"
   ]
  },
  {
   "cell_type": "code",
   "execution_count": null,
   "id": "2e25fdd8-4d84-45bc-80f0-949917e00a17",
   "metadata": {},
   "outputs": [],
   "source": [
    "# Import the course packages\n",
    "import numpy as np\n",
    "import math\n",
    "import pandas as pd\n",
    "\n",
    "# Read in the file\n",
    "baseball_df = pd.read_csv(\"datasets/baseball.csv\")\n",
    "\n",
    "# Separate into arrays\n",
    "baseball_names = baseball_df[\"Name\"].to_numpy()\n",
    "baseball_heights = baseball_df[\"Height\"].to_numpy()\n",
    "baseball_weights = baseball_df[\"Weight\"].to_numpy()\n",
    "baseball_ages = baseball_df[\"Age\"].to_numpy()\n",
    "\n",
    "# Print out first array\n",
    "baseball_names"
   ]
  },
  {
   "cell_type": "markdown",
   "id": "c09c5c3a",
   "metadata": {},
   "source": [
    "## 3. Challenge Yourself\n",
    "After running the cell above, you have created four NumPy arrays: `baseball_names`, `baseball_heights`, `baseball_weights`, and `baseball_ages`. \n",
    "\n",
    "**Add code** to the code cells below to try one (or more) of the following challenges:\n",
    "\n",
    "1. Print out the names of the first ten baseball players in `baseball_names`. If you're stuck, try reviewing this [video](https://campus.datacamp.com/courses/intro-to-python-for-data-science/chapter-4-numpy?ex=1).\n",
    "2. What is the median weight of all baseball players in `baseball_weights`? If you're stuck, try reviewing this [video](https://campus.datacamp.com/courses/intro-to-python-for-data-science/chapter-4-numpy?ex=13).\n",
    "3. Print out the names of all players with a height greater than 80 (heights are in inches) using `baseball_names` and `baseball_heights`. If you're stuck, try reviewing this [video](https://campus.datacamp.com/courses/intro-to-python-for-data-science/chapter-4-numpy?ex=1).\n",
    "\n",
    "Be sure to check out the **Answer Key** at the end to see one way to solve each problem. Did you try something similar?\n",
    "\n",
    "**Reminder: To execute the code you add to a cell, click inside the cell to select it and click \"Run\" or the ► icon. You can also use Shift-Enter to run a selected cell.**"
   ]
  },
  {
   "cell_type": "code",
   "execution_count": null,
   "id": "10176b86",
   "metadata": {},
   "outputs": [],
   "source": [
    "# 1. Print out the names of the first ten baseball players\n"
   ]
  },
  {
   "cell_type": "code",
   "execution_count": null,
   "id": "4db5cf4a-b988-4544-b0c0-1147832724fd",
   "metadata": {},
   "outputs": [],
   "source": [
    "# 2. Print out the median weight of all baseball players\n"
   ]
  },
  {
   "cell_type": "code",
   "execution_count": null,
   "id": "e4450735-a144-469a-bb0c-cf7a866deaf1",
   "metadata": {},
   "outputs": [],
   "source": [
    "# 3. Print out the names of all players with a height greater than 80\n"
   ]
  },
  {
   "cell_type": "markdown",
   "id": "289544b8",
   "metadata": {},
   "source": [
    "## 4. Next Steps\n",
    "Feeling confident about your skills? Continue on to [Intermediate Python](https://app.datacamp.com/learn/courses/intermediate-python)! This course will introduce you to some powerful libraries for visualizing and working with data: Matplotlib and pandas!\n",
    "\n",
    "If you're still keen to practice, you can also use the code below to load in the soccer data you used in the [final exercise](https://campus.datacamp.com/courses/intro-to-python-for-data-science/chapter-4-numpy?ex=16) of Introduction to Python."
   ]
  },
  {
   "cell_type": "code",
   "execution_count": null,
   "id": "83b78231-3890-4201-bd46-64b0a0a02cfe",
   "metadata": {},
   "outputs": [],
   "source": [
    "# Read in the file\n",
    "soccer_df = pd.read_csv(\"datasets/baseball.csv\")\n",
    "\n",
    "# Separate into Numpy arrays\n",
    "soccer_names = soccer_df[\"Name\"].to_numpy()\n",
    "soccer_heights = soccer_df[\"Height\"].to_numpy()\n",
    "soccer_weights = soccer_df[\"Weight\"].to_numpy()\n",
    "soccer_ages = soccer_df[\"Age\"].to_numpy()\n",
    "soccer_positions = soccer_df[\"PosCategory\"].to_numpy()\n",
    "\n",
    "# Print the first array\n",
    "print(soccer_names)"
   ]
  },
  {
   "cell_type": "markdown",
   "id": "banner-green",
   "metadata": {},
   "source": [
    "💡 After running the cell above, you can access the arrays `soccer_names`, `soccer_heights`, `soccer_weights`, `soccer_ages`, and `soccer_positions`. Try adding a new code cell to inspect and explore these arrays!"
   ]
  },
  {
   "cell_type": "markdown",
   "id": "7f71ac0e",
   "metadata": {},
   "source": [
    "## 5. Answer Key\n",
    "Below are potential solutions to the challenges shown earlier. Try them out and see how they compare to how you approached the problem!"
   ]
  },
  {
   "cell_type": "code",
   "execution_count": null,
   "id": "biblical-amber",
   "metadata": {},
   "outputs": [],
   "source": [
    "# 1. Print out the names of the first ten baseball players\n",
    "print(baseball_names[0:10])"
   ]
  },
  {
   "cell_type": "code",
   "execution_count": null,
   "id": "signal-farming",
   "metadata": {},
   "outputs": [],
   "source": [
    "# 2. Print out the median weight of all baseball players\n",
    "print(np.median(baseball_weights))"
   ]
  },
  {
   "cell_type": "code",
   "execution_count": null,
   "id": "likely-packing",
   "metadata": {},
   "outputs": [],
   "source": [
    "# 3. Print out the names of all players with a height greater than 80\n",
    "print(baseball_names[baseball_heights > 80])"
   ]
  }
 ],
 "metadata": {
  "colab": {
   "name": "Welcome to DataCamp Workspaces.ipynb",
   "provenance": []
  },
  "kernelspec": {
   "display_name": "Python 3 (ipykernel)",
   "language": "python",
   "name": "python3"
  },
  "language_info": {
   "codemirror_mode": {
    "name": "ipython",
    "version": 3
   },
   "file_extension": ".py",
   "mimetype": "text/x-python",
   "name": "python",
   "nbconvert_exporter": "python",
   "pygments_lexer": "ipython3",
   "version": "3.9.7"
  },
  "varInspector": {
   "cols": {
    "lenName": 16,
    "lenType": 16,
    "lenVar": 40
   },
   "kernels_config": {
    "python": {
     "delete_cmd_postfix": "",
     "delete_cmd_prefix": "del ",
     "library": "var_list.py",
     "varRefreshCmd": "print(var_dic_list())"
    },
    "r": {
     "delete_cmd_postfix": ") ",
     "delete_cmd_prefix": "rm(",
     "library": "var_list.r",
     "varRefreshCmd": "cat(var_dic_list()) "
    }
   },
   "types_to_exclude": [
    "module",
    "function",
    "builtin_function_or_method",
    "instance",
    "_Feature"
   ],
   "window_display": false
  }
 },
 "nbformat": 4,
 "nbformat_minor": 5
}
